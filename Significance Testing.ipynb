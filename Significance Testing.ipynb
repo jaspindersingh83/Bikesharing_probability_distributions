{
 "cells": [
  {
   "cell_type": "code",
   "execution_count": 1,
   "metadata": {
    "collapsed": true
   },
   "outputs": [],
   "source": [
    "weight_lost_a=[3,\n",
    " 2,\n",
    " 3,\n",
    " 4,\n",
    " 3,\n",
    " 2,\n",
    " 2,\n",
    " 2,\n",
    " 1,\n",
    " 3,\n",
    " 2,\n",
    " 3,\n",
    " 1,\n",
    " 3,\n",
    " 4,\n",
    " 1,\n",
    " 3,\n",
    " 2,\n",
    " 1,\n",
    " 3,\n",
    " 4,\n",
    " 3,\n",
    " 2,\n",
    " 3,\n",
    " 7,\n",
    " 2,\n",
    " 3,\n",
    " 2,\n",
    " 5,\n",
    " 1,\n",
    " 1,\n",
    " 1,\n",
    " 3,\n",
    " 2,\n",
    " 4,\n",
    " 10,\n",
    " 2,\n",
    " 3,\n",
    " 2,\n",
    " 5,\n",
    " 6,\n",
    " 2,\n",
    " 3,\n",
    " 2,\n",
    " 3,\n",
    " 4,\n",
    " 1,\n",
    " 3,\n",
    " 3,\n",
    " 1]\n"
   ]
  },
  {
   "cell_type": "code",
   "execution_count": 4,
   "metadata": {
    "collapsed": false
   },
   "outputs": [],
   "source": [
    "weight_lost_b=[5,\n",
    " 4,\n",
    " 5,\n",
    " 5,\n",
    " 4,\n",
    " 5,\n",
    " 7,\n",
    " 5,\n",
    " 4,\n",
    " 3,\n",
    " 3,\n",
    " 5,\n",
    " 10,\n",
    " 3,\n",
    " 4,\n",
    " 9,\n",
    " 7,\n",
    " 6,\n",
    " 9,\n",
    " 4,\n",
    " 2,\n",
    " 5,\n",
    " 7,\n",
    " 7,\n",
    " 7,\n",
    " 5,\n",
    " 4,\n",
    " 8,\n",
    " 9,\n",
    " 6,\n",
    " 7,\n",
    " 6,\n",
    " 7,\n",
    " 6,\n",
    " 3,\n",
    " 5,\n",
    " 5,\n",
    " 4,\n",
    " 2,\n",
    " 3,\n",
    " 3,\n",
    " 5,\n",
    " 6,\n",
    " 9,\n",
    " 7,\n",
    " 6,\n",
    " 4,\n",
    " 5,\n",
    " 4,\n",
    " 3]"
   ]
  },
  {
   "cell_type": "code",
   "execution_count": 6,
   "metadata": {
    "collapsed": false
   },
   "outputs": [
    {
     "name": "stdout",
     "output_type": "stream",
     "text": [
      "50\n",
      "50\n"
     ]
    }
   ],
   "source": [
    "print(len(weight_lost_a))\n",
    "print(len(weight_lost_b))"
   ]
  },
  {
   "cell_type": "code",
   "execution_count": 8,
   "metadata": {
    "collapsed": false
   },
   "outputs": [
    {
     "data": {
      "text/plain": [
       "2.8199999999999998"
      ]
     },
     "execution_count": 8,
     "metadata": {},
     "output_type": "execute_result"
    }
   ],
   "source": [
    "import numpy as np \n",
    "mean_group_a=np.mean(weight_lost_a)\n",
    "mean_group_a"
   ]
  },
  {
   "cell_type": "code",
   "execution_count": 9,
   "metadata": {
    "collapsed": false
   },
   "outputs": [
    {
     "data": {
      "text/plain": [
       "5.3399999999999999"
      ]
     },
     "execution_count": 9,
     "metadata": {},
     "output_type": "execute_result"
    }
   ],
   "source": [
    "\n",
    "mean_group_b=np.mean(weight_lost_b)\n",
    "mean_group_b"
   ]
  },
  {
   "cell_type": "code",
   "execution_count": 13,
   "metadata": {
    "collapsed": false
   },
   "outputs": [
    {
     "data": {
      "image/png": "[encoded data removed]",
      "text/plain": [
       "<matplotlib.figure.Figure at 0x1105afe10>"
      ]
     },
     "metadata": {},
     "output_type": "display_data"
    },
    {
     "data": {
      "image/png": "[encoded data removed]",
      "text/plain": [
       "<matplotlib.figure.Figure at 0x1105b47f0>"
      ]
     },
     "metadata": {},
     "output_type": "display_data"
    }
   ],
   "source": [
    "import matplotlib.pyplot as plt \n",
    "fig,ax=plt.subplots()\n",
    "ax.hist(weight_lost_a)\n",
    "fig,ax1=plt.subplots()\n",
    "ax1.hist(weight_lost_b)\n",
    "plt.show()"
   ]
  },
  {
   "cell_type": "code",
   "execution_count": 16,
   "metadata": {
    "collapsed": false
   },
   "outputs": [
    {
     "name": "stdout",
     "output_type": "stream",
     "text": [
      "2.52\n"
     ]
    }
   ],
   "source": [
    "####testing the null hypothesis that there is no difference in means of both experiments.Taking means as *test Static*\n",
    "### P valus method is used for continuos variables\n",
    "\n",
    "mean_difference=mean_group_b-mean_group_a\n",
    "print(mean_difference)"
   ]
  },
  {
   "cell_type": "code",
   "execution_count": 33,
   "metadata": {
    "collapsed": false
   },
   "outputs": [
    {
     "data": {
      "image/png": "[encoded data removed]",
      "text/plain": [
       "<matplotlib.figure.Figure at 0x1104fe1d0>"
      ]
     },
     "metadata": {},
     "output_type": "display_data"
    }
   ],
   "source": [
    "all_values=[3, 5, 2, 4, 3, 5, 4, 5, 3, 4, 2, 5, 2, 7, 2, 5, 1, 4, 3, 3, 2, 3, 3, 5, 1, 10, 3, 3, 4, 4, 1, 9, 3, 7, 2, 6, 1, 9, 3, 4, 4, 2, 3, 5, 2, 7, 3, 7, 7, 7, 2, 5, 3, 4, 2, 8, 5, 9, 1, 6, 1, 7, 1, 6, 3, 7, 2, 6, 4, 3, 10, 5, 2, 5, 3, 4, 2, 2, 5, 3, 6, 3, 2, 5, 3, 6, 2, 9, 3, 7, 4, 6, 1, 4, 3, 5, 3, 4, 1, 3]\n",
    "mean_differences=[]\n",
    "for i in range(0,1000):\n",
    "    group_a=[]\n",
    "    group_b=[]\n",
    "    for i in all_values:\n",
    "        rand=np.random.rand()\n",
    "        if rand>=0.5:\n",
    "            group_a.append(i)\n",
    "        else:\n",
    "            group_b.append(i)\n",
    "    iteration_mean_difference=np.mean(group_b)-np.mean(group_a)\n",
    "    mean_differences.append(iteration_mean_difference)\n",
    "fig,ax=plt.subplots()\n",
    "ax.hist(mean_differences)\n",
    "plt.show()\n"
   ]
  },
  {
   "cell_type": "code",
   "execution_count": 43,
   "metadata": {
    "collapsed": false
   },
   "outputs": [],
   "source": [
    "sampling_distribution={}\n",
    "\n",
    "for i in mean_differences:\n",
    "    count=1\n",
    "    if i not in sampling_distribution:\n",
    "        sampling_distribution[i]=count\n",
    "    else:\n",
    "        sampling_distribution[i]=count+sampling_distribution[i]\n",
    "\n",
    "        "
   ]
  },
  {
   "cell_type": "code",
   "execution_count": 46,
   "metadata": {
    "collapsed": false
   },
   "outputs": [
    {
     "data": {
      "text/plain": [
       "0.0"
      ]
     },
     "execution_count": 46,
     "metadata": {},
     "output_type": "execute_result"
    }
   ],
   "source": [
    "frequencies=[]\n",
    "for i in sampling_distribution:\n",
    "    if i>=2.52:\n",
    "        frequencies.append(sampling_distribution[i])\n",
    "\n",
    "p_value=np.sum(frequencies)/1000\n",
    "p_value\n"
   ]
  },
  {
   "cell_type": "code",
   "execution_count": 49,
   "metadata": {
    "collapsed": true
   },
   "outputs": [],
   "source": [
    "### Chi Squared Test startings. Chi Squared is used to measure that how our expected and observed values differ for *categorical variable*\n",
    "female_diff=(-16280.5+10771)/16280.5\n",
    "male_diff=(-16280.5+21790)/16280.5\n",
    "### The ratio "
   ]
  },
  {
   "cell_type": "code",
   "execution_count": 69,
   "metadata": {
    "collapsed": false
   },
   "outputs": [
    {
     "data": {
      "text/plain": [
       "3728.950615767329"
      ]
     },
     "execution_count": 69,
     "metadata": {},
     "output_type": "execute_result"
    }
   ],
   "source": [
    "###chi_squared_value\n",
    "female_diff=(-16280.5+10771)**2/16280.5\n",
    "male_diff=(-16280.5+21790)**2/16280.5\n",
    "chi_squared_value=female_diff+male_diff\n",
    "\n",
    "chi_squared_value\n"
   ]
  },
  {
   "cell_type": "code",
   "execution_count": 72,
   "metadata": {
    "collapsed": false
   },
   "outputs": [
    {
     "data": {
      "image/png": "[encoded data removed]",
      "text/plain": [
       "<matplotlib.figure.Figure at 0x110cf5978>"
      ]
     },
     "metadata": {},
     "output_type": "display_data"
    }
   ],
   "source": [
    "import random \n",
    "expected_value_male=32561/2\n",
    "expected_value_female=32561/2\n",
    "chi_squared_values = []\n",
    "for j in range(1000):\n",
    "    li=[]\n",
    "    dictionary={}\n",
    "    for i in range(32561):\n",
    "        q=random.random()\n",
    "        if q>0.5:\n",
    "            li.append('male')\n",
    "        else:\n",
    "            li.append('female')\n",
    "    for i in li:\n",
    "        count=1\n",
    "        if i not in dictionary:\n",
    "            dictionary[i]=count\n",
    "        else:\n",
    "            dictionary[i]=count+dictionary[i]\n",
    "    male_diff=(dictionary['male']-expected_value_male)**2/expected_value_male\n",
    "    female_diff=(dictionary['female']-expected_value_female)**2/expected_value_female\n",
    "    chi_squared=male_diff+female_diff\n",
    "    chi_squared_values.append(chi_squared)\n",
    "\n",
    "fig,ax=plt.subplots()  \n",
    "ax.hist(chi_squared_values) \n",
    "plt.show()\n",
    "            \n",
    "    \n",
    "        "
   ]
  },
  {
   "cell_type": "code",
   "execution_count": 76,
   "metadata": {
    "collapsed": true
   },
   "outputs": [],
   "source": [
    "###chi_squared_value for a sample of \n",
    "female_diff=(325.61-107.71)**2/107.71\n",
    "male_diff=(-325.61+217.90)**2/217.90\n",
    "gender_chisq=female_diff+male_diff"
   ]
  },
  {
   "cell_type": "code",
   "execution_count": 77,
   "metadata": {
    "collapsed": true
   },
   "outputs": [],
   "source": [
    "###Using Scipy Chisquared \n",
    "\n",
    "from scipy.stats import chisquare\n",
    "import numpy as np\n",
    "\n",
    "observed = [27816, 3124, 1039, 311, 271]\n",
    "expected = [26146.5, 3939.9, 944.3, 260.5, 1269.8]\n",
    "chisquare,race_pvalue=chisquare(observed,expected)"
   ]
  },
  {
   "cell_type": "code",
   "execution_count": null,
   "metadata": {
    "collapsed": false
   },
   "outputs": [],
   "source": [
    "###Using Crosstab from Pandas\n",
    "import pandas as pd\n",
    "table = pd.crosstab(income[\"race\"], [income[\"sex\"]])\n",
    "print(table)"
   ]
  },
  {
   "cell_type": "code",
   "execution_count": null,
   "metadata": {
    "collapsed": true
   },
   "outputs": [],
   "source": []
  }
 ],
 "metadata": {
  "kernelspec": {
   "display_name": "Python 3",
   "language": "python",
   "name": "python3"
  },
  "language_info": {
   "codemirror_mode": {
    "name": "ipython",
    "version": 3
   },
   "file_extension": ".py",
   "mimetype": "text/x-python",
   "name": "python",
   "nbconvert_exporter": "python",
   "pygments_lexer": "ipython3",
   "version": "3.6.0"
  }
 },
 "nbformat": 4,
 "nbformat_minor": 2
}
